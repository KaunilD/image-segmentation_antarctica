{
 "cells": [
  {
   "cell_type": "code",
   "execution_count": 21,
   "metadata": {},
   "outputs": [],
   "source": [
    "import torch\n",
    "import cv2\n",
    "import numpy as np\n",
    "import glob\n",
    "import math\n",
    "import os\n",
    "\n",
    "import torch\n",
    "import torch.utils.data as torch_data\n",
    "import torch.nn as nn\n",
    "import torch.nn.init as init\n",
    "import torch.nn.functional as F"
   ]
  },
  {
   "cell_type": "code",
   "execution_count": 31,
   "metadata": {},
   "outputs": [],
   "source": [
    "class GTiffDataset(torch_data.Dataset):\n",
    "    def __init__(self, root_dir, tile_size = 256, stride = 256, debug = False, transform=None):\n",
    "        \"\"\"\n",
    "        Args:\n",
    "            root_dir (string): Directory with all the images.\n",
    "            transform (callable, optional): Optional transform to be applied\n",
    "                on a sample.\n",
    "        \"\"\"\n",
    "        self.tile_size = tile_size\n",
    "        self.stride = stride\n",
    "        self.root_dir = root_dir\n",
    "        self.transform = transform\n",
    "        self.debug = debug\n",
    "        self.images, self.masks = self.read_dir()\n",
    "        \n",
    "    def get_tiles(self, image, mask):\n",
    "        i_tiles, m_tiles = [], []\n",
    "        width = image.shape[1] - image.shape[1]%self.stride\n",
    "        height = image.shape[0] - image.shape[0]%self.stride\n",
    "        print(height, width, image.shape)\n",
    "                \n",
    "        for i in range(height, self.stride):\n",
    "            for j in range(width, self.stride):\n",
    "                if i+self.tile_size > image.shape[0]:\n",
    "                    break\n",
    "                img_tile = image[\n",
    "                    i:i+self.tile_size, \n",
    "                    j:j+self.tile_size\n",
    "                ]\n",
    "                mask_tile = image[\n",
    "                    i:i+self.tile_size, \n",
    "                    j:j+self.tile_size\n",
    "                ]\n",
    "                i_tiles.append(img_tile)\n",
    "                m_tiles.append(mask_tile)\n",
    "                \n",
    "                if self.debug:\n",
    "                    # Debugging the tiles\n",
    "                    cv2.imwrite(\"debug_\" + str(i) + \"_\" + str(j) + \"_img.png\", img_tile)\n",
    "                    cv2.imwrite(\"debug_\" + str(i) + \"_\" + str(j) + \"_mask.png\", mask_tile)\n",
    "        return i_tiles, m_tiles\n",
    "\n",
    "    def read_dir(self):\n",
    "        tiles = [[], []]\n",
    "        images = sorted(glob.glob(self.root_dir + '/' + '*_4326_cropped.png'))\n",
    "        masks = sorted(glob.glob(self.root_dir + '/' + '*_mask_4326.tif'))\n",
    "        for i, m in zip(images, masks):\n",
    "            image = cv2.imread(i)\n",
    "            mask = cv2.imread(m, 0)\n",
    "            i_tiles, m_tiles = self.get_tiles(image, mask)\n",
    "            for im, ma in zip(i_tiles, m_tiles):\n",
    "                tiles[0].append(im)\n",
    "                tiles[1].append(ma)\n",
    "        \n",
    "        return tiles\n",
    "    \n",
    "    def __len__(self):\n",
    "        return len(self.images)\n",
    "\n",
    "    def __getitem__(self, idx):\n",
    "        if torch.is_tensor(idx):\n",
    "            idx = idx.tolist()\n",
    "        sample = [self.images[idx], self.masks[idx]]\n",
    "        if self.transform:\n",
    "            sample = self.transform(sample)\n",
    "        return sample"
   ]
  },
  {
   "cell_type": "code",
   "execution_count": 32,
   "metadata": {},
   "outputs": [
    {
     "name": "stdout",
     "output_type": "stream",
     "text": [
      "128 1920 (200, 1945, 3)\n",
      "26240 15360 (26296, 15402, 3)\n",
      "640 8192 (750, 8235, 3)\n",
      "512 768 (622, 808, 3)\n",
      "2176 15360 (2300, 15414, 3)\n",
      "2432 15360 (2441, 15449, 3)\n"
     ]
    }
   ],
   "source": [
    "gtiffdataset = GTiffDataset('../data/pre-processed/dryvalleys/QB02', stride=128)"
   ]
  },
  {
   "cell_type": "code",
   "execution_count": null,
   "metadata": {},
   "outputs": [],
   "source": []
  }
 ],
 "metadata": {
  "kernelspec": {
   "display_name": "Python (pytorch)",
   "language": "python",
   "name": "pytorch"
  },
  "language_info": {
   "codemirror_mode": {
    "name": "ipython",
    "version": 3
   },
   "file_extension": ".py",
   "mimetype": "text/x-python",
   "name": "python",
   "nbconvert_exporter": "python",
   "pygments_lexer": "ipython3",
   "version": "3.5.6"
  }
 },
 "nbformat": 4,
 "nbformat_minor": 2
}
