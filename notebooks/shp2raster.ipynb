{
 "cells": [
  {
   "cell_type": "code",
   "execution_count": 1,
   "metadata": {},
   "outputs": [],
   "source": [
    "import shapefile\n",
    "import numpy as np\n",
    "import glob"
   ]
  },
  {
   "cell_type": "code",
   "execution_count": 2,
   "metadata": {},
   "outputs": [],
   "source": [
    "GEOTIF_PATH = '../data/gettiffs/dryvalleys/*.tif'\n",
    "SHP_PATH = '../pre-processing/101001000EDC4600.shp'\n",
    "sf = shapefile.Reader(SHP_PATH)"
   ]
  },
  {
   "cell_type": "code",
   "execution_count": 5,
   "metadata": {},
   "outputs": [
    {
     "name": "stdout",
     "output_type": "stream",
     "text": [
      "[159.6374494249487, -76.72994985360239, 160.35540304814947, -76.61652319132678]\n"
     ]
    }
   ],
   "source": [
    "image_id2path = {}\n",
    "\"\"\"\n",
    "for path in glob.glob(GEOTIF_PATH):\n",
    "    print(path)\n",
    "\"\"\"\n",
    "print(sf.bbox)"
   ]
  },
  {
   "cell_type": "code",
   "execution_count": null,
   "metadata": {},
   "outputs": [],
   "source": []
  }
 ],
 "metadata": {
  "kernelspec": {
   "display_name": "Python 3",
   "language": "python",
   "name": "python3"
  },
  "language_info": {
   "codemirror_mode": {
    "name": "ipython",
    "version": 3
   },
   "file_extension": ".py",
   "mimetype": "text/x-python",
   "name": "python",
   "nbconvert_exporter": "python",
   "pygments_lexer": "ipython3",
   "version": "3.6.5"
  }
 },
 "nbformat": 4,
 "nbformat_minor": 2
}
